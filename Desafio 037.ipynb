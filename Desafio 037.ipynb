{
 "cells": [
  {
   "cell_type": "code",
   "execution_count": null,
   "metadata": {},
   "outputs": [],
   "source": [
    "#Leia um inteiro.\n",
    "\n",
    "#Escolha base de conversão\n",
    "#1 - Binário\n",
    "#2 - OCTAL\n",
    "#3 - HEXADECIMAL\n",
    "\n",
    "num=int(input('Digite um inteiro'))\n",
    "\n",
    "print(\"\"\"Escolha uma opção de base para conversão\n",
    "[1] Binário\n",
    "[2] Octal\n",
    "[3] Hexadecimal\"\"\")\n",
    "\n",
    "opção=int(input('Sua Opção: '))\n",
    "\n",
    "if opção==1:\n",
    "    print('{} em binário é {} '.format(num, bin(num)))\n",
    "elif opção==2:\n",
    "    print('{} em octal é {} '.format(num, oct(num)))\n",
    "elif opção==3: \n",
    "    print('{} em hexadecimal é {} '.format(num, hex(num)))\n",
    "else:\n",
    "    print('Opção Inválida!')"
   ]
  },
  {
   "cell_type": "code",
   "execution_count": null,
   "metadata": {},
   "outputs": [],
   "source": []
  }
 ],
 "metadata": {
  "kernelspec": {
   "display_name": "Python 3.6",
   "language": "python",
   "name": "python36"
  },
  "language_info": {
   "codemirror_mode": {
    "name": "ipython",
    "version": 3
   },
   "file_extension": ".py",
   "mimetype": "text/x-python",
   "name": "python",
   "nbconvert_exporter": "python",
   "pygments_lexer": "ipython3",
   "version": "3.6.3"
  }
 },
 "nbformat": 4,
 "nbformat_minor": 2
}
