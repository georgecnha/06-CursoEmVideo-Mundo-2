{
 "cells": [
  {
   "cell_type": "code",
   "execution_count": 7,
   "metadata": {},
   "outputs": [
    {
     "name": "stdout",
     "output_type": "stream",
     "text": [
      "Digite seu ano de Nascimento: 1994\n",
      "Seu alistamento está atrasado. Deveria ter acontecido a 6 anos\n"
     ]
    }
   ],
   "source": [
    "#Leia o ano de nascimento\n",
    "\n",
    "#Retorna:\n",
    "#Ele ainda vai se alistar no futuro?\n",
    "#É hora de se alistar\n",
    "#Já passou da hora de se alistar? Se sim, quanto tempo?\n",
    "\n",
    "from datetime import date\n",
    "\n",
    "ano=int(input('Digite seu ano de Nascimento: '))\n",
    "atual=date.today().year\n",
    "T=atual-ano\n",
    "\n",
    "if T<18:\n",
    "    print('Seu alistamento seŕa no futuro.')\n",
    "elif T==18:\n",
    "    print('Seu alistamento será esse ano.')\n",
    "else:\n",
    "    if T-18==1:\n",
    "        print('Seu alistamento está atrasado. Deveria ter acontecido a {} ano.'.format(T-18))\n",
    "    elif T-18>1:\n",
    "        print('Seu alistamento está atrasado. Deveria ter acontecido a {} anos.'.format(T-18))"
   ]
  },
  {
   "cell_type": "code",
   "execution_count": null,
   "metadata": {},
   "outputs": [],
   "source": []
  }
 ],
 "metadata": {
  "kernelspec": {
   "display_name": "Python 3.6",
   "language": "python",
   "name": "python36"
  },
  "language_info": {
   "codemirror_mode": {
    "name": "ipython",
    "version": 3
   },
   "file_extension": ".py",
   "mimetype": "text/x-python",
   "name": "python",
   "nbconvert_exporter": "python",
   "pygments_lexer": "ipython3",
   "version": "3.6.3"
  }
 },
 "nbformat": 4,
 "nbformat_minor": 2
}
