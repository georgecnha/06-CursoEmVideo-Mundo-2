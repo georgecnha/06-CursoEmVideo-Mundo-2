{
 "cells": [
  {
   "cell_type": "code",
   "execution_count": 1,
   "metadata": {},
   "outputs": [
    {
     "name": "stdout",
     "output_type": "stream",
     "text": [
      "Qual o valor da casa? 30000\n",
      "Qual é o seu salário? 950\n",
      "Em quantos anos você quer pagar? 6\n",
      "Empréstimo aceito\n"
     ]
    }
   ],
   "source": [
    "#Empréstimo \n",
    "#prestação mensal não pode exceder 13% do empréstimo.\n",
    "\n",
    "\n",
    "valor=float(input('Qual o valor da casa? '))\n",
    "sal=float(input('Qual é o seu salário? '))\n",
    "anos=float(input('Em quantos anos você quer pagar? '))\n",
    "pmensal=valor/(anos*12)\n",
    "\n",
    "if pmensal> valor*(30/100):\n",
    "    print ('Empréstimo negado.')\n",
    "else:\n",
    "    print('Empréstimo aceito.')"
   ]
  },
  {
   "cell_type": "code",
   "execution_count": null,
   "metadata": {},
   "outputs": [],
   "source": []
  }
 ],
 "metadata": {
  "kernelspec": {
   "display_name": "Python 3.6",
   "language": "python",
   "name": "python36"
  },
  "language_info": {
   "codemirror_mode": {
    "name": "ipython",
    "version": 3
   },
   "file_extension": ".py",
   "mimetype": "text/x-python",
   "name": "python",
   "nbconvert_exporter": "python",
   "pygments_lexer": "ipython3",
   "version": "3.6.3"
  }
 },
 "nbformat": 4,
 "nbformat_minor": 2
}
